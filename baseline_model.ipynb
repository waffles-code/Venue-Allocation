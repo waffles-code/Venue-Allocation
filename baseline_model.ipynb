{
 "cells": [
  {
   "cell_type": "markdown",
   "metadata": {},
   "source": [
    "# Install Packages"
   ]
  },
  {
   "cell_type": "code",
   "execution_count": 1,
   "metadata": {},
   "outputs": [],
   "source": [
    "# Install pgmpy\n",
    "# %pip install pgmpy\n",
    "# Install daft\n",
    "# %pip install -U daft\n",
    "# # Install libgraphviz\n",
    "# !sudo apt install libgraphviz-dev\n",
    "# # Install pygraphviz\n",
    "# %pip install pygraphviz"
   ]
  },
  {
   "cell_type": "markdown",
   "metadata": {},
   "source": [
    "# Import Libraries"
   ]
  },
  {
   "cell_type": "code",
   "execution_count": 41,
   "metadata": {},
   "outputs": [],
   "source": [
    "import seaborn\n",
    "import numpy as np\n",
    "import pandas as pd\n",
    "import networkx as nx\n",
    "import pygraphviz as pgv\n",
    "import matplotlib.pyplot as plt\n",
    "from datetime import datetime\n",
    "import tqdm as notebook_tqdm\n",
    "from IPython.display import Image\n",
    "from pgmpy.models import BayesianModel\n",
    "from pgmpy.sampling import GibbsSampling\n",
    "from pgmpy.models import BayesianNetwork\n",
    "from pgmpy.estimators import HillClimbSearch\n",
    "from pgmpy.factors.discrete import TabularCPD\n",
    "from pgmpy.estimators import BayesianEstimator\n",
    "from pgmpy.estimators import K2Score, BicScore\n",
    "from pgmpy.inference import VariableElimination\n",
    "from pgmpy.sampling import BayesianModelSampling\n",
    "from pgmpy.estimators import MaximumLikelihoodEstimator"
   ]
  },
  {
   "cell_type": "markdown",
   "metadata": {},
   "source": [
    "# Baseline Bayesian Model\n",
    "---\n",
    "- Number of students:\n",
    ">>>- between 18 and 45 : 0\n",
    ">>>- greater than 45 : 1\n",
    "- Class Type : \n",
    ">>>- Tutorial : 0\n",
    ">>>- Lab : 1\n",
    ">>>- Lecture : 2\n",
    "- Venue size:\n",
    ">>>- 45 seats : 0\n",
    ">>>- greater than 45 : 1\n",
    "- Venue Type:\n",
    ">>>- Tutorial : 0\n",
    ">>>- Lab : 1\n",
    ">>>- Lecture : 2\n",
    "\n",
    "- Venue:\n",
    ">>>- No : 0\n",
    ">>>- Yes : 1\n"
   ]
  },
  {
   "cell_type": "code",
   "execution_count": 18,
   "metadata": {},
   "outputs": [],
   "source": [
    "# define model structure\n",
    "digraph = ((\"Num_students\", \"Class\"),\n",
    "        (\"Class_Type\", \"Class\"),\n",
    "        (\"Class\",\"Distance\"),\n",
    "        (\"Venue_Size\", \"Venues\"),\n",
    "        (\"Venue_Type\", \"Venues\"),\n",
    "        (\"Venues\", \"Distance\"),\n",
    "        (\"Distance\", \"Venue\"))\n",
    "baseline_model = BayesianNetwork(digraph)"
   ]
  },
  {
   "cell_type": "markdown",
   "metadata": {},
   "source": [
    "## Define Conditional Probabilities"
   ]
  },
  {
   "cell_type": "markdown",
   "metadata": {},
   "source": [
    "### Random Conditional Probability Values\n",
    "- computes random cpd values for each variable that add up to 1"
   ]
  },
  {
   "cell_type": "code",
   "execution_count": 19,
   "metadata": {},
   "outputs": [],
   "source": [
    "def cpd_values(variable_card, evidence_card = [1]):\n",
    "  n = np.prod(evidence_card)\n",
    "  M = np.random.rand(variable_card, n)\n",
    "  r = M.sum(axis=0)\n",
    "  values = np.around(M / r, 3)\n",
    "  return values.tolist()"
   ]
  },
  {
   "cell_type": "markdown",
   "metadata": {},
   "source": [
    "### Root Nodes"
   ]
  },
  {
   "cell_type": "markdown",
   "metadata": {},
   "source": [
    "#### Class Type"
   ]
  },
  {
   "cell_type": "code",
   "execution_count": 20,
   "metadata": {},
   "outputs": [
    {
     "name": "stdout",
     "output_type": "stream",
     "text": [
      "+---------------+-------+\n",
      "| Class_Type(0) | 0.036 |\n",
      "+---------------+-------+\n",
      "| Class_Type(1) | 0.405 |\n",
      "+---------------+-------+\n",
      "| Class_Type(2) | 0.558 |\n",
      "+---------------+-------+\n"
     ]
    }
   ],
   "source": [
    "cpd_class_type = TabularCPD(variable=\"Class_Type\", variable_card=3, values=cpd_values(variable_card=3))\n",
    "# values=[[0.6], [0.2], [0.2]]\n",
    "baseline_model.add_cpds(cpd_class_type)\n",
    "print(cpd_class_type)"
   ]
  },
  {
   "cell_type": "markdown",
   "metadata": {},
   "source": [
    "#### Number of Students"
   ]
  },
  {
   "cell_type": "code",
   "execution_count": 21,
   "metadata": {},
   "outputs": [
    {
     "name": "stdout",
     "output_type": "stream",
     "text": [
      "+-----------------+-------+\n",
      "| Num_students(0) | 0.214 |\n",
      "+-----------------+-------+\n",
      "| Num_students(1) | 0.786 |\n",
      "+-----------------+-------+\n"
     ]
    }
   ],
   "source": [
    "cpd_num_students = TabularCPD(variable=\"Num_students\", variable_card=2, values=cpd_values(variable_card=2))\n",
    "# values=[[0.2], [0.8]]\n",
    "baseline_model.add_cpds(cpd_num_students)\n",
    "print(cpd_num_students)"
   ]
  },
  {
   "cell_type": "markdown",
   "metadata": {},
   "source": [
    "#### Venue Type"
   ]
  },
  {
   "cell_type": "code",
   "execution_count": 22,
   "metadata": {},
   "outputs": [
    {
     "name": "stdout",
     "output_type": "stream",
     "text": [
      "+---------------+-------+\n",
      "| Venue_Type(0) | 0.189 |\n",
      "+---------------+-------+\n",
      "| Venue_Type(1) | 0.142 |\n",
      "+---------------+-------+\n",
      "| Venue_Type(2) | 0.669 |\n",
      "+---------------+-------+\n"
     ]
    }
   ],
   "source": [
    "cpd_venue_type = TabularCPD( variable=\"Venue_Type\", variable_card=3, values=cpd_values(variable_card=3))\n",
    "# values=[[0.65], [0.20], [0.15]]\n",
    "baseline_model.add_cpds(cpd_venue_type)\n",
    "print(cpd_venue_type)"
   ]
  },
  {
   "cell_type": "markdown",
   "metadata": {},
   "source": [
    "#### Venue Size"
   ]
  },
  {
   "cell_type": "code",
   "execution_count": 23,
   "metadata": {},
   "outputs": [
    {
     "name": "stdout",
     "output_type": "stream",
     "text": [
      "+---------------+-------+\n",
      "| Venue_Size(0) | 0.876 |\n",
      "+---------------+-------+\n",
      "| Venue_Size(1) | 0.124 |\n",
      "+---------------+-------+\n"
     ]
    }
   ],
   "source": [
    "cpd_venue_size = TabularCPD( variable=\"Venue_Size\", variable_card=2, values=cpd_values(variable_card=2))\n",
    "# values=[[0.2], [0.8]]\n",
    "baseline_model.add_cpds(cpd_venue_size)\n",
    "print(cpd_venue_size)"
   ]
  },
  {
   "cell_type": "markdown",
   "metadata": {},
   "source": [
    "### Internal Nodes"
   ]
  },
  {
   "cell_type": "markdown",
   "metadata": {},
   "source": [
    "#### Class"
   ]
  },
  {
   "cell_type": "code",
   "execution_count": 24,
   "metadata": {},
   "outputs": [
    {
     "name": "stdout",
     "output_type": "stream",
     "text": [
      "+--------------+-----------------+-----+-----------------+\n",
      "| Num_students | Num_students(0) | ... | Num_students(1) |\n",
      "+--------------+-----------------+-----+-----------------+\n",
      "| Class_Type   | Class_Type(0)   | ... | Class_Type(2)   |\n",
      "+--------------+-----------------+-----+-----------------+\n",
      "| Class(0)     | 0.325           | ... | 0.225           |\n",
      "+--------------+-----------------+-----+-----------------+\n",
      "| Class(1)     | 0.351           | ... | 0.072           |\n",
      "+--------------+-----------------+-----+-----------------+\n",
      "| Class(2)     | 0.324           | ... | 0.703           |\n",
      "+--------------+-----------------+-----+-----------------+\n"
     ]
    }
   ],
   "source": [
    "cpd_class = TabularCPD( variable=\"Class\",\n",
    "                       variable_card=3,\n",
    "                       values=cpd_values(variable_card=3, evidence_card=[2, 3]),\n",
    "                       evidence=[\"Num_students\", \"Class_Type\"],\n",
    "                       evidence_card=[2, 3])\n",
    "# values=[[0.03, 0.05, 0.92, 0.72, 0.39, 0.08], [0.79, 0.55, 0.02, 0.03, 0.01, 0.77], [0.18, 0.4, 0.06, 0.25, 0.6, 0.15]], \n",
    "baseline_model.add_cpds(cpd_class)\n",
    "print(cpd_class)"
   ]
  },
  {
   "cell_type": "markdown",
   "metadata": {},
   "source": [
    "#### Venues\n",
    "- possible vebues to choose from"
   ]
  },
  {
   "cell_type": "code",
   "execution_count": 25,
   "metadata": {},
   "outputs": [
    {
     "name": "stdout",
     "output_type": "stream",
     "text": [
      "+------------+---------------+-----+---------------+---------------+\n",
      "| Venue_Type | Venue_Type(0) | ... | Venue_Type(2) | Venue_Type(2) |\n",
      "+------------+---------------+-----+---------------+---------------+\n",
      "| Venue_Size | Venue_Size(0) | ... | Venue_Size(0) | Venue_Size(1) |\n",
      "+------------+---------------+-----+---------------+---------------+\n",
      "| Venues(0)  | 0.326         | ... | 0.298         | 0.394         |\n",
      "+------------+---------------+-----+---------------+---------------+\n",
      "| Venues(1)  | 0.353         | ... | 0.32          | 0.132         |\n",
      "+------------+---------------+-----+---------------+---------------+\n",
      "| Venues(2)  | 0.321         | ... | 0.383         | 0.473         |\n",
      "+------------+---------------+-----+---------------+---------------+\n"
     ]
    }
   ],
   "source": [
    "cpd_venues = TabularCPD( \n",
    "    variable=\"Venues\",\n",
    "    variable_card= 3,\n",
    "    values=cpd_values(variable_card=3, evidence_card=[3, 2]),\n",
    "    evidence=[\"Venue_Type\", \"Venue_Size\"],\n",
    "    evidence_card=[3, 2],\n",
    ")\n",
    "#values=[[0.65, 0.35, 0.23, 0.22, 0.14, 0.32], [0.25, 0.45, 0.32, 0.63, 0.001, 0.18], [0.1, 0.2, 0.45, 0.15, 0.859, 0.5]],\n",
    "baseline_model.add_cpds(cpd_venues)\n",
    "print(cpd_venues)"
   ]
  },
  {
   "cell_type": "markdown",
   "metadata": {},
   "source": [
    "#### Distance"
   ]
  },
  {
   "cell_type": "code",
   "execution_count": 26,
   "metadata": {},
   "outputs": [
    {
     "name": "stdout",
     "output_type": "stream",
     "text": [
      "+-------------+-----------+-----+-----------+-----------+\n",
      "| Class       | Class(0)  | ... | Class(2)  | Class(2)  |\n",
      "+-------------+-----------+-----+-----------+-----------+\n",
      "| Venues      | Venues(0) | ... | Venues(1) | Venues(2) |\n",
      "+-------------+-----------+-----+-----------+-----------+\n",
      "| Distance(0) | 0.039     | ... | 0.582     | 0.531     |\n",
      "+-------------+-----------+-----+-----------+-----------+\n",
      "| Distance(1) | 0.496     | ... | 0.056     | 0.395     |\n",
      "+-------------+-----------+-----+-----------+-----------+\n",
      "| Distance(2) | 0.465     | ... | 0.362     | 0.074     |\n",
      "+-------------+-----------+-----+-----------+-----------+\n"
     ]
    }
   ],
   "source": [
    "cpd_distance = TabularCPD( variable=\"Distance\", variable_card=3,\n",
    "                          values=cpd_values(variable_card=3, evidence_card=[3, 3]),\n",
    "                          evidence=[\"Class\",\"Venues\"],\n",
    "                          evidence_card=[3, 3])\n",
    "# values=[[0.03, 0.05, 0.92, 0.72, 0.39, 0.08, 0.03, 0.05, 0.92], [0.79, 0.55, 0.02, 0.03, 0.01, 0.77, 0.79, 0.55, 0.02], [0.18, 0.4, 0.06, 0.25, 0.6, 0.15, 0.18, 0.4, 0.06]], \n",
    "baseline_model.add_cpds(cpd_distance)\n",
    "print(cpd_distance)"
   ]
  },
  {
   "cell_type": "markdown",
   "metadata": {},
   "source": [
    "### Terminal Node"
   ]
  },
  {
   "cell_type": "markdown",
   "metadata": {},
   "source": [
    "#### Venue"
   ]
  },
  {
   "cell_type": "code",
   "execution_count": 27,
   "metadata": {},
   "outputs": [
    {
     "name": "stdout",
     "output_type": "stream",
     "text": [
      "+----------+-------------+-------------+-------------+\n",
      "| Distance | Distance(0) | Distance(1) | Distance(2) |\n",
      "+----------+-------------+-------------+-------------+\n",
      "| Venue(0) | 0.393       | 0.367       | 0.422       |\n",
      "+----------+-------------+-------------+-------------+\n",
      "| Venue(1) | 0.246       | 0.34        | 0.418       |\n",
      "+----------+-------------+-------------+-------------+\n",
      "| Venue(2) | 0.361       | 0.293       | 0.16        |\n",
      "+----------+-------------+-------------+-------------+\n"
     ]
    }
   ],
   "source": [
    "cpd_venue = TabularCPD( variable=\"Venue\", variable_card=3,\n",
    "                       values=cpd_values(variable_card=3, evidence_card=[3]),\n",
    "                       evidence=[\"Distance\"], \n",
    "                       evidence_card=[3])\n",
    "# values=[[0.03, 0.05, 0.92],  [0.79, 0.55, 0.02], [0.18, 0.4, 0.06]], \n",
    "baseline_model.add_cpds(cpd_venue)\n",
    "print(cpd_venue)"
   ]
  },
  {
   "cell_type": "markdown",
   "metadata": {},
   "source": [
    "## Check model\n",
    "---\n",
    "Check the model for various errors. This method checks for the following errors.\n",
    "\n",
    "> - Checks if the sum of the probabilities for each state is equal to 1 (tol=0.01).\n",
    "> - Checks if the CPDs associated with nodes are consistent with their parents.\n",
    "\n",
    "Returns: check – True if all the checks are passed"
   ]
  },
  {
   "cell_type": "code",
   "execution_count": 28,
   "metadata": {},
   "outputs": [
    {
     "data": {
      "text/plain": [
       "True"
      ]
     },
     "execution_count": 28,
     "metadata": {},
     "output_type": "execute_result"
    }
   ],
   "source": [
    "# Check if the model is valid, throw an exception otherwise\n",
    "baseline_model.check_model()"
   ]
  },
  {
   "cell_type": "markdown",
   "metadata": {},
   "source": [
    "## Visualize all probabilities"
   ]
  },
  {
   "cell_type": "code",
   "execution_count": 29,
   "metadata": {},
   "outputs": [
    {
     "data": {
      "image/png": "[encoded data removed]",
      "text/plain": [
       "<IPython.core.display.Image object>"
      ]
     },
     "execution_count": 29,
     "metadata": {},
     "output_type": "execute_result"
    }
   ],
   "source": [
    "G = pgv.AGraph(directed=True)\n",
    "inference = VariableElimination(baseline_model)\n",
    "\n",
    "for element in digraph:\n",
    "\n",
    "    probability_0 = inference.query([element[0]], show_progress=False)\n",
    "    probability_1 = inference.query([element[1]], show_progress=False)\n",
    "\n",
    "    probability_0_str = \"\\n\".join(\n",
    "        [f\"{k}: {x * 100:.02f}%\" for k, x in enumerate(probability_0.values)]\n",
    "    )\n",
    "    probability_1_str = \"\\n\".join(\n",
    "        [f\"{k}: {x * 100:.02f}%\" for k, x in enumerate(probability_1.values)]\n",
    "    )\n",
    "\n",
    "    G.add_node(element[0], label=element[0] + \"\\n\\n\" + probability_0_str)\n",
    "    G.add_node(element[1], label=element[1] + \"\\n\\n\" + probability_1_str)\n",
    "\n",
    "    G.get_node(element[0]).attr[\"shape\"] = \"box\"\n",
    "    G.get_node(element[1]).attr[\"shape\"] = \"box\"\n",
    "\n",
    "    G.add_edge(element[0], element[1])\n",
    "\n",
    "Image(G.draw(format=\"png\", prog=\"dot\"))"
   ]
  },
  {
   "cell_type": "markdown",
   "metadata": {},
   "source": [
    "# Sampling"
   ]
  },
  {
   "cell_type": "markdown",
   "metadata": {},
   "source": [
    "## Foward Sampling"
   ]
  },
  {
   "cell_type": "code",
   "execution_count": 55,
   "metadata": {},
   "outputs": [
    {
     "name": "stderr",
     "output_type": "stream",
     "text": [
      "Generating for node: Class_Type:   0%|          | 0/8 [00:00<?, ?it/s]  /home/mmasehume/.local/lib/python3.8/site-packages/pgmpy/utils/mathext.py:83: UserWarning: Probability values don't exactly sum to 1. Differ by: 0.0009999999999998899. Adjusting values.\n",
      "  warn(\n",
      "Generating for node: Venue: 100%|██████████| 8/8 [00:00<00:00, 86.60it/s]\n"
     ]
    }
   ],
   "source": [
    "def foward_sample(model, size=int(1e3)):\n",
    "\n",
    "\tinference = BayesianModelSampling(model)\n",
    "\tdata = inference.forward_sample(size)\n",
    "\tdata = data.sample(frac=1).reset_index(drop=True)\n",
    "\n",
    "\treturn data\n",
    "\n",
    "data = foward_sample(baseline_model)"
   ]
  },
  {
   "cell_type": "markdown",
   "metadata": {},
   "source": [
    "## Gibbs Sampling\n",
    "- each random variable is iteratively resampled from its conditional distribution given the remaining"
   ]
  },
  {
   "cell_type": "code",
   "execution_count": 16,
   "metadata": {},
   "outputs": [],
   "source": [
    "def gibbs_sample(model, size=int(1e3)):\n",
    "\tinference = GibbsSampling(model)\n",
    "\tdata = inference.sample(size).reset_index(drop=True)\n",
    "\treturn data"
   ]
  },
  {
   "cell_type": "markdown",
   "metadata": {},
   "source": [
    "## Store data in csv"
   ]
  },
  {
   "cell_type": "code",
   "execution_count": 56,
   "metadata": {},
   "outputs": [],
   "source": [
    "data.to_csv('./data/foward_sample '+ '.csv')\n",
    "#  str(datetime.now())+"
   ]
  },
  {
   "cell_type": "markdown",
   "metadata": {},
   "source": [
    "# Structure Learning"
   ]
  },
  {
   "cell_type": "markdown",
   "metadata": {},
   "source": [
    "## Score Based Structure Learning\n",
    "- this approach construes model selection as an optimization task\n",
    "- Has two building blocks:\n",
    "\t- 1. A scoring function $s_D\\colon M \\to \\mathbb R$ that maps models to a numerical score, based on how well they fit to a given data set $D$\n",
    "\t- 2. A search strategy to traverse the search space of possible models $M$ and select a model with optimal score.\n",
    "- Commonly used scores to measure the fit between model and data are :\n",
    "\t- Bayesian Dirichlet scores such as BDeu or K2 \n",
    "\t- Bayesian Information Criterion (BIC, also called MDL)\n",
    "- "
   ]
  },
  {
   "cell_type": "markdown",
   "metadata": {},
   "source": [
    "### Learn the model structure using Hill-Climb Search with K2score"
   ]
  },
  {
   "cell_type": "code",
   "execution_count": 57,
   "metadata": {},
   "outputs": [
    {
     "name": "stderr",
     "output_type": "stream",
     "text": [
      "  0%|          | 7/10000 [00:00<10:50, 15.35it/s]\n"
     ]
    },
    {
     "data": {
      "image/png": "[encoded data removed]",
      "text/plain": [
       "<Figure size 432x288 with 1 Axes>"
      ]
     },
     "metadata": {},
     "output_type": "display_data"
    }
   ],
   "source": [
    "scoring_method = K2Score(data=data)\n",
    "est = HillClimbSearch(data=data)\n",
    "estimated_model = est.estimate(\n",
    "    scoring_method=scoring_method, max_indegree=4, max_iter=int(1e4)\n",
    ")\n",
    "\n",
    "# print f1 score\n",
    "# print(get_f1_score(estimated_model, baseline_model))\n",
    "\n",
    "# print nodes and edges from model generated g\n",
    "# print(sorted(estimated_model.nodes()))\n",
    "# print(sorted(estimated_model.edges()))\n",
    "\n",
    "nx.draw_circular(\n",
    "    estimated_model, with_labels=True, arrowsize=30, node_size=800, alpha=0.3, font_weight=\"bold\"\n",
    ")\n",
    "plt.show()"
   ]
  },
  {
   "cell_type": "markdown",
   "metadata": {},
   "source": [
    "### Learn the model structure using Hill-Climb Search with BIC Score"
   ]
  },
  {
   "cell_type": "code",
   "execution_count": 58,
   "metadata": {},
   "outputs": [
    {
     "name": "stderr",
     "output_type": "stream",
     "text": [
      "  0%|          | 6/10000 [00:00<12:02, 13.83it/s]\n"
     ]
    },
    {
     "data": {
      "image/png": "[encoded data removed]",
      "text/plain": [
       "<Figure size 432x288 with 1 Axes>"
      ]
     },
     "metadata": {},
     "output_type": "display_data"
    }
   ],
   "source": [
    "scoring_method1 = BicScore(data=data)\n",
    "bic_est = HillClimbSearch(data=data)\n",
    "bic_model = bic_est.estimate(\n",
    "    scoring_method=scoring_method1, max_indegree=4, max_iter=int(1e4)\n",
    ")\n",
    "\n",
    "# get_f1_score(bic_model, venue_model)\n",
    "nx.draw_circular(\n",
    "    bic_model, with_labels=True, arrowsize=30, node_size=800, alpha=0.3, font_weight=\"bold\"\n",
    ")\n",
    "plt.show()"
   ]
  },
  {
   "cell_type": "markdown",
   "metadata": {},
   "source": [
    "### Learn the model structure using Hill-Climb Search with Bdeu Score"
   ]
  },
  {
   "cell_type": "code",
   "execution_count": null,
   "metadata": {},
   "outputs": [],
   "source": [
    "# scoring_method2 = BdeuScore(data=data)\n",
    "# bdeu_est = HillClimbSearch(data=data)\n",
    "# bdeu_model = bdeu_est.estimate(\n",
    "#     scoring_method=scoring_method2, max_indegree=4, max_iter=int(1e4)\n",
    "# )\n",
    "\n",
    "# # get_f1_score(bdeu_model, venue_model)\n",
    "# nx.draw_circular(\n",
    "#     bdeu_model, with_labels=True, arrowsize=30, node_size=800, alpha=0.3, font_weight=\"bold\"\n",
    "# )\n",
    "# plt.show()"
   ]
  },
  {
   "cell_type": "markdown",
   "metadata": {},
   "source": [
    "## Hybrid Structure Learning\n",
    "The MMHC algorithm combines the constraint-based and score-based method. It has two parts:\n",
    "\n",
    "- 1.Learn undirected graph skeleton using the constraint-based construction procedure MMPC\n",
    "\n",
    "- 2.Orient edges using score-based optimization (BDeu score + modified hill-climbing)\n"
   ]
  },
  {
   "cell_type": "code",
   "execution_count": 61,
   "metadata": {},
   "outputs": [
    {
     "name": "stdout",
     "output_type": "stream",
     "text": [
      "Part 1) Skeleton:  [('Num_students', 'Venue_Type'), ('Num_students', 'Distance'), ('Class', 'Class_Type'), ('Class', 'Venue_Size'), ('Class_Type', 'Venue'), ('Class_Type', 'Distance'), ('Class_Type', 'Venues'), ('Distance', 'Venues'), ('Venue_Size', 'Venue')]\n"
     ]
    },
    {
     "name": "stderr",
     "output_type": "stream",
     "text": [
      "  0%|          | 2/1000000 [00:00<15:17:28, 18.17it/s]"
     ]
    },
    {
     "name": "stdout",
     "output_type": "stream",
     "text": [
      "Part 2) Model:     [('Class_Type', 'Class'), ('Distance', 'Venues')]\n"
     ]
    },
    {
     "name": "stderr",
     "output_type": "stream",
     "text": [
      "\n"
     ]
    },
    {
     "data": {
      "image/png": "[encoded data removed]",
      "text/plain": [
       "<Figure size 432x288 with 1 Axes>"
      ]
     },
     "metadata": {},
     "output_type": "display_data"
    }
   ],
   "source": [
    "from pgmpy.estimators import MmhcEstimator\n",
    "from pgmpy.estimators import BDeuScore\n",
    "\n",
    "# est = MmhcEstimator(data)\n",
    "# Mmhc_model = est.estimate()\n",
    "# print(Mmhc_model.edges())\n",
    "# nx.draw_circular(\n",
    "#     Mmhc_model, with_labels=True, arrowsize=30, node_size=800, alpha=0.3, font_weight=\"bold\"\n",
    "# )\n",
    "# plt.show()\n",
    "\n",
    "mmhc = MmhcEstimator(data)\n",
    "skeleton = mmhc.mmpc()\n",
    "print(\"Part 1) Skeleton: \", skeleton.edges())\n",
    "\n",
    "# use hill climb search to orient the edges:\n",
    "hc = HillClimbSearch(data)\n",
    "Mmhc_model = hc.estimate(scoring_method=BDeuScore(data), white_list=skeleton.to_directed().edges())\n",
    "print(\"Part 2) Model:    \", Mmhc_model.edges())\n",
    "nx.draw_circular(\n",
    "    Mmhc_model, with_labels=True, arrowsize=30, node_size=800, alpha=0.3, font_weight=\"bold\"\n",
    ")\n",
    "plt.show()"
   ]
  },
  {
   "cell_type": "markdown",
   "metadata": {},
   "source": [
    "# Parameter Learning"
   ]
  },
  {
   "cell_type": "markdown",
   "metadata": {},
   "source": [
    "### Maximum Likelihood Estimation\n",
    "- estimates the conditional probability tables (CPTs) for the variables of a Bayesian Network, given some data set.\n",
    "\n",
    "#### STEPS\n",
    "- use the relative frequencies, with which the variable states have occured.\n",
    "- we should fill the CPDs in such a way, that $P(\\text{data}|\\text{model})$ is maximal.\n",
    "\n",
    "#### KEY :\n",
    "- >  mle.estimate_cpd(variable) computes the state counts and divides each cell by the (conditional) sample size. \n",
    "- >  mle.get_parameters() returns a list of CPDs for all variable of the model.\n",
    "\n",
    "#### Problems with MLE :\n",
    "- overfits data\n",
    "- If the observed data is not representative for the underlying distribution, ML estimations will be extremly far off.\n",
    "- When estimating parameters for Bayesian networks, lack of data is a frequent problem.\n",
    "- Even if the total sample size is very large, the fact that state counts are done conditionally for each parents configuration causes immense fragmentation\n",
    "- If a variable has 3 parents that can each take 10 states, then state counts will be done seperately for 10^3 = 1000 parents configurations. \n",
    "- This makes MLE very fragile and unstable for learning Bayesian Network parameters. \n",
    "- A way to mitigate MLE's overfitting is Bayesian Parameter Estimation."
   ]
  },
  {
   "cell_type": "code",
   "execution_count": 62,
   "metadata": {},
   "outputs": [
    {
     "name": "stdout",
     "output_type": "stream",
     "text": [
      "+---------------+-------+\n",
      "| Class_Type(0) | 0.032 |\n",
      "+---------------+-------+\n",
      "| Class_Type(1) | 0.405 |\n",
      "+---------------+-------+\n",
      "| Class_Type(2) | 0.563 |\n",
      "+---------------+-------+\n",
      "+-----------------+-------+\n",
      "| Num_students(0) | 0.185 |\n",
      "+-----------------+-------+\n",
      "| Num_students(1) | 0.815 |\n",
      "+-----------------+-------+\n",
      "+---------------+-------+\n",
      "| Venue_Type(0) | 0.182 |\n",
      "+---------------+-------+\n",
      "| Venue_Type(1) | 0.142 |\n",
      "+---------------+-------+\n",
      "| Venue_Type(2) | 0.676 |\n",
      "+---------------+-------+\n",
      "+---------------+-------+\n",
      "| Venue_Size(0) | 0.878 |\n",
      "+---------------+-------+\n",
      "| Venue_Size(1) | 0.122 |\n",
      "+---------------+-------+\n",
      "+--------------+-----------------+-----+---------------------+\n",
      "| Class_Type   | Class_Type(0)   | ... | Class_Type(2)       |\n",
      "+--------------+-----------------+-----+---------------------+\n",
      "| Num_students | Num_students(0) | ... | Num_students(1)     |\n",
      "+--------------+-----------------+-----+---------------------+\n",
      "| Class(0)     | 0.25            | ... | 0.23965141612200436 |\n",
      "+--------------+-----------------+-----+---------------------+\n",
      "| Class(1)     | 0.5             | ... | 0.05664488017429194 |\n",
      "+--------------+-----------------+-----+---------------------+\n",
      "| Class(2)     | 0.25            | ... | 0.7037037037037037  |\n",
      "+--------------+-----------------+-----+---------------------+\n",
      "+------------+--------------------+-----+---------------------+\n",
      "| Venue_Size | Venue_Size(0)      | ... | Venue_Size(1)       |\n",
      "+------------+--------------------+-----+---------------------+\n",
      "| Venue_Type | Venue_Type(0)      | ... | Venue_Type(2)       |\n",
      "+------------+--------------------+-----+---------------------+\n",
      "| Venues(0)  | 0.3575757575757576 | ... | 0.42168674698795183 |\n",
      "+------------+--------------------+-----+---------------------+\n",
      "| Venues(1)  | 0.3090909090909091 | ... | 0.10843373493975904 |\n",
      "+------------+--------------------+-----+---------------------+\n",
      "| Venues(2)  | 0.3333333333333333 | ... | 0.46987951807228917 |\n",
      "+------------+--------------------+-----+---------------------+\n",
      "+-------------+---------------------+-----+---------------------+\n",
      "| Class       | Class(0)            | ... | Class(2)            |\n",
      "+-------------+---------------------+-----+---------------------+\n",
      "| Venues      | Venues(0)           | ... | Venues(2)           |\n",
      "+-------------+---------------------+-----+---------------------+\n",
      "| Distance(0) | 0.02608695652173913 | ... | 0.425531914893617   |\n",
      "+-------------+---------------------+-----+---------------------+\n",
      "| Distance(1) | 0.5739130434782609  | ... | 0.475177304964539   |\n",
      "+-------------+---------------------+-----+---------------------+\n",
      "| Distance(2) | 0.4                 | ... | 0.09929078014184398 |\n",
      "+-------------+---------------------+-----+---------------------+\n",
      "+----------+---------------------+--------------------+--------------------+\n",
      "| Distance | Distance(0)         | Distance(1)        | Distance(2)        |\n",
      "+----------+---------------------+--------------------+--------------------+\n",
      "| Venue(0) | 0.414985590778098   | 0.3373860182370821 | 0.3950617283950617 |\n",
      "+----------+---------------------+--------------------+--------------------+\n",
      "| Venue(1) | 0.21037463976945245 | 0.364741641337386  | 0.4351851851851852 |\n",
      "+----------+---------------------+--------------------+--------------------+\n",
      "| Venue(2) | 0.3746397694524496  | 0.2978723404255319 | 0.1697530864197531 |\n",
      "+----------+---------------------+--------------------+--------------------+\n"
     ]
    }
   ],
   "source": [
    "# Defining the Bayesian Model structure, copy baseline\n",
    "mle_model =  baseline_model.copy()\n",
    "\n",
    "# estimates cpds, returns list of cpds\n",
    "# mle = MaximumLikelihoodEstimator(mle_model, data)\n",
    "# mle.get_parameters()\n",
    "\n",
    "# adjust all CPDs of `model` using MLE, estimates cpds inplace\n",
    "mle_model.fit(data, estimator=MaximumLikelihoodEstimator)\n",
    "for cpd in mle_model.get_cpds():\n",
    "\tprint(cpd)"
   ]
  },
  {
   "cell_type": "markdown",
   "metadata": {},
   "source": [
    "### Bayesian Parameter Estimation\n",
    "- starts with already existing prior CPDs, that express our beliefs about the variables before the data was observed.\n",
    "- Those \"priors\" are then updated, using the state counts from the observed data\n",
    "- One can think of the priors as consisting in pseudo state counts, that are added to the actual counts before normalization. \n",
    "- Unless one wants to encode specific beliefs about the distributions of the variables, one commonly chooses uniform priors, i.e. ones that deem all states equiprobable\n",
    "\n",
    "#### Priors\n",
    "- K2 prior - simply adds 1 to the count of every single state.\n",
    "- BDeu (Bayesian Dirichlet equivalent uniform) prior - is a somewhat more sensible choice of prior. \n",
    "\t- For BDeu we need to specify an equivalent sample size N and then the pseudo-counts are the equivalent of having observed N uniform samples of each variable (and each parent configuration)"
   ]
  },
  {
   "cell_type": "markdown",
   "metadata": {},
   "source": [
    "##### K2 prior"
   ]
  },
  {
   "cell_type": "code",
   "execution_count": 63,
   "metadata": {},
   "outputs": [
    {
     "name": "stdout",
     "output_type": "stream",
     "text": [
      "+---------------+-----------+\n",
      "| Class_Type(0) | 0.0329013 |\n",
      "+---------------+-----------+\n",
      "| Class_Type(1) | 0.404786  |\n",
      "+---------------+-----------+\n",
      "| Class_Type(2) | 0.562313  |\n",
      "+---------------+-----------+\n",
      "+-----------------+----------+\n",
      "| Num_students(0) | 0.185629 |\n",
      "+-----------------+----------+\n",
      "| Num_students(1) | 0.814371 |\n",
      "+-----------------+----------+\n",
      "+---------------+----------+\n",
      "| Venue_Type(0) | 0.182453 |\n",
      "+---------------+----------+\n",
      "| Venue_Type(1) | 0.142572 |\n",
      "+---------------+----------+\n",
      "| Venue_Type(2) | 0.674975 |\n",
      "+---------------+----------+\n",
      "+---------------+----------+\n",
      "| Venue_Size(0) | 0.877246 |\n",
      "+---------------+----------+\n",
      "| Venue_Size(1) | 0.122754 |\n",
      "+---------------+----------+\n",
      "+--------------+-----+---------------------+\n",
      "| Class_Type   | ... | Class_Type(2)       |\n",
      "+--------------+-----+---------------------+\n",
      "| Num_students | ... | Num_students(1)     |\n",
      "+--------------+-----+---------------------+\n",
      "| Class(0)     | ... | 0.24025974025974026 |\n",
      "+--------------+-----+---------------------+\n",
      "| Class(1)     | ... | 0.05844155844155844 |\n",
      "+--------------+-----+---------------------+\n",
      "| Class(2)     | ... | 0.7012987012987013  |\n",
      "+--------------+-----+---------------------+\n",
      "+------------+---------------------+-----+---------------------+\n",
      "| Venue_Size | Venue_Size(0)       | ... | Venue_Size(1)       |\n",
      "+------------+---------------------+-----+---------------------+\n",
      "| Venue_Type | Venue_Type(0)       | ... | Venue_Type(2)       |\n",
      "+------------+---------------------+-----+---------------------+\n",
      "| Venues(0)  | 0.35714285714285715 | ... | 0.4186046511627907  |\n",
      "+------------+---------------------+-----+---------------------+\n",
      "| Venues(1)  | 0.30952380952380953 | ... | 0.11627906976744186 |\n",
      "+------------+---------------------+-----+---------------------+\n",
      "| Venues(2)  | 0.3333333333333333  | ... | 0.46511627906976744 |\n",
      "+------------+---------------------+-----+---------------------+\n",
      "+-------------+---------------------+-----+---------------------+\n",
      "| Class       | Class(0)            | ... | Class(2)            |\n",
      "+-------------+---------------------+-----+---------------------+\n",
      "| Venues      | Venues(0)           | ... | Venues(2)           |\n",
      "+-------------+---------------------+-----+---------------------+\n",
      "| Distance(0) | 0.03389830508474576 | ... | 0.4236111111111111  |\n",
      "+-------------+---------------------+-----+---------------------+\n",
      "| Distance(1) | 0.5677966101694916  | ... | 0.4722222222222222  |\n",
      "+-------------+---------------------+-----+---------------------+\n",
      "| Distance(2) | 0.3983050847457627  | ... | 0.10416666666666667 |\n",
      "+-------------+---------------------+-----+---------------------+\n",
      "+----------+---------------------+---------------------+---------------------+\n",
      "| Distance | Distance(0)         | Distance(1)         | Distance(2)         |\n",
      "+----------+---------------------+---------------------+---------------------+\n",
      "| Venue(0) | 0.4142857142857143  | 0.3373493975903614  | 0.3944954128440367  |\n",
      "+----------+---------------------+---------------------+---------------------+\n",
      "| Venue(1) | 0.21142857142857144 | 0.3644578313253012  | 0.43425076452599387 |\n",
      "+----------+---------------------+---------------------+---------------------+\n",
      "| Venue(2) | 0.3742857142857143  | 0.29819277108433734 | 0.1712538226299694  |\n",
      "+----------+---------------------+---------------------+---------------------+\n"
     ]
    }
   ],
   "source": [
    "# Defining the Bayesian Model structure, copy baseline\n",
    "bpe_model =  baseline_model.copy()\n",
    "\n",
    "# estimates cpds, returns list of cpds\n",
    "# bpe = BayesianEstimator(mle_model, data)\n",
    "# bpe.get_parameters()\n",
    "\n",
    "# adjust all CPDs of `model` using MLE, estimates cpds inplace\n",
    "bpe_model.fit(data, estimator=BayesianEstimator, prior_type=\"k2\")\n",
    "for cpd in bpe_model.get_cpds():\n",
    "\tprint(cpd)"
   ]
  },
  {
   "cell_type": "markdown",
   "metadata": {},
   "source": [
    "##### BDeu prior"
   ]
  },
  {
   "cell_type": "code",
   "execution_count": 64,
   "metadata": {},
   "outputs": [
    {
     "name": "stdout",
     "output_type": "stream",
     "text": [
      "+---------------+-----------+\n",
      "| Class_Type(0) | 0.0334992 |\n",
      "+---------------+-----------+\n",
      "| Class_Type(1) | 0.404643  |\n",
      "+---------------+-----------+\n",
      "| Class_Type(2) | 0.561857  |\n",
      "+---------------+-----------+\n",
      "+-----------------+----------+\n",
      "| Num_students(0) | 0.186567 |\n",
      "+-----------------+----------+\n",
      "| Num_students(1) | 0.813433 |\n",
      "+-----------------+----------+\n",
      "+---------------+----------+\n",
      "| Venue_Type(0) | 0.182753 |\n",
      "+---------------+----------+\n",
      "| Venue_Type(1) | 0.142952 |\n",
      "+---------------+----------+\n",
      "| Venue_Type(2) | 0.674295 |\n",
      "+---------------+----------+\n",
      "+---------------+----------+\n",
      "| Venue_Size(0) | 0.876119 |\n",
      "+---------------+----------+\n",
      "| Venue_Size(1) | 0.123881 |\n",
      "+---------------+----------+\n",
      "+--------------+-----+---------------------+\n",
      "| Class_Type   | ... | Class_Type(2)       |\n",
      "+--------------+-----+---------------------+\n",
      "| Num_students | ... | Num_students(1)     |\n",
      "+--------------+-----+---------------------+\n",
      "| Class(0)     | ... | 0.23982119125286938 |\n",
      "+--------------+-----+---------------------+\n",
      "| Class(1)     | ... | 0.05714630904917241 |\n",
      "+--------------+-----+---------------------+\n",
      "| Class(2)     | ... | 0.7030324996979582  |\n",
      "+--------------+-----+---------------------+\n",
      "+------------+---------------------+-----+---------------------+\n",
      "| Venue_Size | Venue_Size(0)       | ... | Venue_Size(1)       |\n",
      "+------------+---------------------+-----+---------------------+\n",
      "| Venue_Type | Venue_Type(0)       | ... | Venue_Type(2)       |\n",
      "+------------+---------------------+-----+---------------------+\n",
      "| Venues(0)  | 0.3574539363484087  | ... | 0.4208084824387011  |\n",
      "+------------+---------------------+-----+---------------------+\n",
      "| Venues(1)  | 0.30921273031825797 | ... | 0.11066931742876077 |\n",
      "+------------+---------------------+-----+---------------------+\n",
      "| Venues(2)  | 0.3333333333333333  | ... | 0.46852220013253804 |\n",
      "+------------+---------------------+-----+---------------------+\n",
      "+-------------+---------------------+-----+---------------------+\n",
      "| Class       | Class(0)            | ... | Class(2)            |\n",
      "+-------------+---------------------+-----+---------------------+\n",
      "| Venues      | Venues(0)           | ... | Venues(2)           |\n",
      "+-------------+---------------------+-----+---------------------+\n",
      "| Distance(0) | 0.02756410256410256 | ... | 0.4251700680272108  |\n",
      "+-------------+---------------------+-----+---------------------+\n",
      "| Distance(1) | 0.5727564102564102  | ... | 0.4746206174777603  |\n",
      "+-------------+---------------------+-----+---------------------+\n",
      "| Distance(2) | 0.3996794871794871  | ... | 0.10020931449502878 |\n",
      "+-------------+---------------------+-----+---------------------+\n",
      "+----------+--------------------+---------------------+---------------------+\n",
      "| Distance | Distance(0)        | Distance(1)         | Distance(2)         |\n",
      "+----------+--------------------+---------------------+---------------------+\n",
      "| Venue(0) | 0.4145952836201402 | 0.33736559139784944 | 0.39474582053906515 |\n",
      "+----------+--------------------+---------------------+---------------------+\n",
      "| Venue(1) | 0.2109623964308477 | 0.3645833333333333  | 0.43466393722279084 |\n",
      "+----------+--------------------+---------------------+---------------------+\n",
      "| Venue(2) | 0.3744423199490121 | 0.2980510752688172  | 0.170590242238144   |\n",
      "+----------+--------------------+---------------------+---------------------+\n"
     ]
    }
   ],
   "source": [
    "# Defining the Bayesian Model structure, copy baseline\n",
    "bpe_model =  baseline_model.copy()\n",
    "\n",
    "# estimates cpds, returns list of cpds\n",
    "# bpe = BayesianEstimator(mle_model, data)\n",
    "# bpe.get_parameters()\n",
    "\n",
    "# adjust all CPDs of `model` using MLE, estimates cpds inplace\n",
    "bpe_model.fit(data, estimator=BayesianEstimator, prior_type=\"BDeu\")\n",
    "for cpd in bpe_model.get_cpds():\n",
    "\tprint(cpd)"
   ]
  },
  {
   "cell_type": "markdown",
   "metadata": {},
   "source": [
    "# Evaluation"
   ]
  },
  {
   "cell_type": "markdown",
   "metadata": {},
   "source": [
    "### Correlation Score\n",
    "- Function to score how well the model structure represents the correlations in the data.\n",
    "- The model doesn’t need to be parameterized for this scor"
   ]
  },
  {
   "cell_type": "code",
   "execution_count": 67,
   "metadata": {},
   "outputs": [
    {
     "name": "stdout",
     "output_type": "stream",
     "text": [
      "***** CORRELATION SCORES *****\n",
      "\n",
      "***** Baseline model *****\n",
      "0.6206896551724137 \n",
      "\n",
      "***** Hill Climb Correllation scores *****\n",
      "----- K2 score model -----\n",
      "0.6206896551724137\n",
      "----- Bic score model -----\n",
      "0.75 \n",
      "\n",
      "***** Hybrid Structure Learning scores *****\n",
      "----- Mmhc_model score model -----\n",
      "0.8181818181818181\n"
     ]
    }
   ],
   "source": [
    "from pgmpy.metrics import correlation_score\n",
    "# baseline score\n",
    "print('*'*5, \"CORRELATION SCORES\", '*'*5)\n",
    "print()\n",
    "print('*'*5, \"Baseline model\", '*'*5)\n",
    "print(correlation_score(baseline_model, data, test=\"chi_square\", significance_level=0.05), \"\\n\")\n",
    "\n",
    "print('*'*5, \"Hill Climb Correllation scores\", '*'*5)\n",
    "print('-'*5, \"K2 score model\", '-'*5)\n",
    "print(correlation_score(estimated_model, data, test=\"chi_square\", significance_level=0.05))\n",
    "print('-'*5, \"Bic score model\",'-'*5)\n",
    "print(correlation_score(bic_model, data, test=\"chi_square\", significance_level=0.05), \"\\n\")\n",
    "print('*'*5, \"Hybrid Structure Learning scores\", '*'*5)\n",
    "print('-'*5, \"Mmhc_model score model\",'-'*5)\n",
    "print(correlation_score(Mmhc_model, data, test=\"chi_square\", significance_level=0.05))\n"
   ]
  },
  {
   "cell_type": "markdown",
   "metadata": {},
   "source": [
    "### log-likelihood score\n",
    "- Computes the log-likelihood of a given dataset i.e. $P(data | model)$.\n",
    "- can be used to check how well the specified model describes the data. \n",
    "- This method requires the parameters of the model to be specified as well. \n",
    "- Direct interpretation of this score is difficult but can be used to compare the fit of two or more models. \n",
    "- A higher score means ab better fit"
   ]
  },
  {
   "cell_type": "code",
   "execution_count": 70,
   "metadata": {},
   "outputs": [
    {
     "name": "stdout",
     "output_type": "stream",
     "text": [
      "***** LOG-LIKELIHOOD SCORE *****\n",
      "\n",
      "***** Baseline model *****\n",
      "-6480.400633449785 \n",
      "\n",
      "***** Hill Climb Search scores *****\n",
      "----- K2 score model -----\n"
     ]
    },
    {
     "ename": "ValueError",
     "evalue": "Only Bayesian Networks are supported. Got <class 'pgmpy.base.DAG.DAG'>.",
     "output_type": "error",
     "traceback": [
      "\u001b[0;31m---------------------------------------------------------------------------\u001b[0m",
      "\u001b[0;31mValueError\u001b[0m                                Traceback (most recent call last)",
      "\u001b[0;32m/tmp/ipykernel_745/3898888241.py\u001b[0m in \u001b[0;36m<module>\u001b[0;34m\u001b[0m\n\u001b[1;32m      7\u001b[0m \u001b[0mprint\u001b[0m\u001b[0;34m(\u001b[0m\u001b[0;34m'*'\u001b[0m\u001b[0;34m*\u001b[0m\u001b[0;36m5\u001b[0m\u001b[0;34m,\u001b[0m \u001b[0;34m\"Hill Climb Search scores\"\u001b[0m\u001b[0;34m,\u001b[0m \u001b[0;34m'*'\u001b[0m\u001b[0;34m*\u001b[0m\u001b[0;36m5\u001b[0m\u001b[0;34m)\u001b[0m\u001b[0;34m\u001b[0m\u001b[0;34m\u001b[0m\u001b[0m\n\u001b[1;32m      8\u001b[0m \u001b[0mprint\u001b[0m\u001b[0;34m(\u001b[0m\u001b[0;34m'-'\u001b[0m\u001b[0;34m*\u001b[0m\u001b[0;36m5\u001b[0m\u001b[0;34m,\u001b[0m \u001b[0;34m\"K2 score model\"\u001b[0m\u001b[0;34m,\u001b[0m \u001b[0;34m'-'\u001b[0m\u001b[0;34m*\u001b[0m\u001b[0;36m5\u001b[0m\u001b[0;34m)\u001b[0m\u001b[0;34m\u001b[0m\u001b[0;34m\u001b[0m\u001b[0m\n\u001b[0;32m----> 9\u001b[0;31m \u001b[0mprint\u001b[0m\u001b[0;34m(\u001b[0m\u001b[0mlog_likelihood_score\u001b[0m\u001b[0;34m(\u001b[0m\u001b[0mestimated_model\u001b[0m\u001b[0;34m,\u001b[0m \u001b[0mdata\u001b[0m\u001b[0;34m)\u001b[0m\u001b[0;34m)\u001b[0m\u001b[0;34m\u001b[0m\u001b[0;34m\u001b[0m\u001b[0m\n\u001b[0m\u001b[1;32m     10\u001b[0m \u001b[0mprint\u001b[0m\u001b[0;34m(\u001b[0m\u001b[0;34m'-'\u001b[0m\u001b[0;34m*\u001b[0m\u001b[0;36m5\u001b[0m\u001b[0;34m,\u001b[0m \u001b[0;34m\"Bic score model\"\u001b[0m\u001b[0;34m,\u001b[0m\u001b[0;34m'-'\u001b[0m\u001b[0;34m*\u001b[0m\u001b[0;36m5\u001b[0m\u001b[0;34m)\u001b[0m\u001b[0;34m\u001b[0m\u001b[0;34m\u001b[0m\u001b[0m\n\u001b[1;32m     11\u001b[0m \u001b[0mprint\u001b[0m\u001b[0;34m(\u001b[0m\u001b[0mlog_likelihood_score\u001b[0m\u001b[0;34m(\u001b[0m\u001b[0mbic_model\u001b[0m\u001b[0;34m,\u001b[0m \u001b[0mdata\u001b[0m\u001b[0;34m)\u001b[0m\u001b[0;34m,\u001b[0m \u001b[0;34m\"\\n\"\u001b[0m\u001b[0;34m)\u001b[0m\u001b[0;34m\u001b[0m\u001b[0;34m\u001b[0m\u001b[0m\n",
      "\u001b[0;32m~/.local/lib/python3.8/site-packages/pgmpy/metrics/metrics.py\u001b[0m in \u001b[0;36mlog_likelihood_score\u001b[0;34m(model, data)\u001b[0m\n\u001b[1;32m    171\u001b[0m     \u001b[0;31m# Step 1: Check the inputs\u001b[0m\u001b[0;34m\u001b[0m\u001b[0;34m\u001b[0m\u001b[0;34m\u001b[0m\u001b[0m\n\u001b[1;32m    172\u001b[0m     \u001b[0;32mif\u001b[0m \u001b[0;32mnot\u001b[0m \u001b[0misinstance\u001b[0m\u001b[0;34m(\u001b[0m\u001b[0mmodel\u001b[0m\u001b[0;34m,\u001b[0m \u001b[0mBayesianNetwork\u001b[0m\u001b[0;34m)\u001b[0m\u001b[0;34m:\u001b[0m\u001b[0;34m\u001b[0m\u001b[0;34m\u001b[0m\u001b[0m\n\u001b[0;32m--> 173\u001b[0;31m         \u001b[0;32mraise\u001b[0m \u001b[0mValueError\u001b[0m\u001b[0;34m(\u001b[0m\u001b[0;34mf\"Only Bayesian Networks are supported. Got {type(model)}.\"\u001b[0m\u001b[0;34m)\u001b[0m\u001b[0;34m\u001b[0m\u001b[0;34m\u001b[0m\u001b[0m\n\u001b[0m\u001b[1;32m    174\u001b[0m     \u001b[0;32melif\u001b[0m \u001b[0;32mnot\u001b[0m \u001b[0misinstance\u001b[0m\u001b[0;34m(\u001b[0m\u001b[0mdata\u001b[0m\u001b[0;34m,\u001b[0m \u001b[0mpd\u001b[0m\u001b[0;34m.\u001b[0m\u001b[0mDataFrame\u001b[0m\u001b[0;34m)\u001b[0m\u001b[0;34m:\u001b[0m\u001b[0;34m\u001b[0m\u001b[0;34m\u001b[0m\u001b[0m\n\u001b[1;32m    175\u001b[0m         \u001b[0;32mraise\u001b[0m \u001b[0mValueError\u001b[0m\u001b[0;34m(\u001b[0m\u001b[0;34mf\"data must be a pandas.DataFrame instance. Got {type(data)}\"\u001b[0m\u001b[0;34m)\u001b[0m\u001b[0;34m\u001b[0m\u001b[0;34m\u001b[0m\u001b[0m\n",
      "\u001b[0;31mValueError\u001b[0m: Only Bayesian Networks are supported. Got <class 'pgmpy.base.DAG.DAG'>."
     ]
    }
   ],
   "source": [
    "from pgmpy.metrics import log_likelihood_score\n",
    "print('*'*5, \"LOG-LIKELIHOOD SCORE\", '*'*5)\n",
    "print()\n",
    "print('*'*5, \"Baseline model\", '*'*5)\n",
    "print(log_likelihood_score(baseline_model, data), \"\\n\")\n",
    "\n",
    "print('*'*5, \"Hill Climb Search scores\", '*'*5)\n",
    "print('-'*5, \"K2 score model\", '-'*5)\n",
    "print(log_likelihood_score(estimated_model, data))\n",
    "print('-'*5, \"Bic score model\",'-'*5)\n",
    "print(log_likelihood_score(bic_model, data), \"\\n\")\n",
    "print('*'*5, \"Hybrid Structure Learning scores\", '*'*5)\n",
    "print('-'*5, \"Mmhc_model score model\",'-'*5)\n",
    "print(log_likelihood_score(Mmhc_model, data))"
   ]
  },
  {
   "cell_type": "code",
   "execution_count": null,
   "metadata": {},
   "outputs": [],
   "source": []
  }
 ],
 "metadata": {
  "kernelspec": {
   "display_name": "Python 3.8.10 64-bit",
   "language": "python",
   "name": "python3"
  },
  "language_info": {
   "codemirror_mode": {
    "name": "ipython",
    "version": 3
   },
   "file_extension": ".py",
   "mimetype": "text/x-python",
   "name": "python",
   "nbconvert_exporter": "python",
   "pygments_lexer": "ipython3",
   "version": "3.8.10"
  },
  "orig_nbformat": 4,
  "vscode": {
   "interpreter": {
    "hash": "916dbcbb3f70747c44a77c7bcd40155683ae19c65e1c03b4aa3499c5328201f1"
   }
  }
 },
 "nbformat": 4,
 "nbformat_minor": 2
}
